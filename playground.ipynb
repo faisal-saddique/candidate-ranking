{
 "cells": [
  {
   "cell_type": "markdown",
   "metadata": {},
   "source": [
    "#### Testing OpenAI API Key"
   ]
  },
  {
   "cell_type": "code",
   "execution_count": 1,
   "metadata": {},
   "outputs": [
    {
     "name": "stdout",
     "output_type": "stream",
     "text": [
      "\n",
      "\n",
      "Hi! How are you doing today?\n"
     ]
    }
   ],
   "source": [
    "from langchain.llms import OpenAI\n",
    "from dotenv import load_dotenv\n",
    "\n",
    "load_dotenv()\n",
    "\n",
    "print(OpenAI().predict(\"Hello\"))"
   ]
  },
  {
   "cell_type": "code",
   "execution_count": 16,
   "metadata": {},
   "outputs": [
    {
     "name": "stdout",
     "output_type": "stream",
     "text": [
      "{'name': 'Dr. Emily Mitchell, MD', 'phone': '(123) 456-7890', 'email': 'dr.emily.mitchell@email.com', 'experience': '7 years', 'qualifications': 'Doctor of Medicine (MD)'}\n"
     ]
    }
   ],
   "source": [
    "import openai\n",
    "import os\n",
    "import json\n",
    "from dotenv import load_dotenv\n",
    "\n",
    "from pydantic import BaseModel\n",
    "\n",
    "load_dotenv()\n",
    "\n",
    "# Set Open AI API Key\n",
    "api_key = os.getenv(\"OPENAI_API_KEY\")\n",
    "assert api_key is not None, \"API Key not set in environment\"\n",
    "\n",
    "openai.api_key = api_key\n",
    "\n",
    "# Define the PyDantic schema for contact_info\n",
    "\n",
    "\n",
    "class ContactInfo(BaseModel):\n",
    "    phone: str\n",
    "    email: str\n",
    "    experience: str\n",
    "    qualifications: str\n",
    "\n",
    "# Define the PyDantic schema for a PersonInformation\n",
    "\n",
    "\n",
    "class PersonInformation(BaseModel):\n",
    "    name: str\n",
    "    contact_info: ContactInfo\n",
    "\n",
    "\n",
    "# Make a call to OpenAI\n",
    "response = openai.ChatCompletion.create(\n",
    "    model=\"gpt-3.5-turbo-0613\",\n",
    "    messages=[\n",
    "        {\"role\": \"user\", \"content\": f\"\"\"\n",
    "3\n",
    "# Dr. Emily Mitchell, MD \n",
    "123 Medical Lane \n",
    "Healthville, Medistate 56789 \n",
    "Phone: (123) 456-7890 \n",
    "Email: dr.emily.mitchell@email.com \n",
    "LinkedIn: www.linkedin.com/in/dremilymitchell \n",
    " \n",
    "## Objective \n",
    "Compassionate and highly skilled Medical Doctor with a strong background in patient care, diagnosis, \n",
    "and treatment. Seeking a challenging position in a progressive healthcare facility to provide quality \n",
    "medical care and make a positive impact on the health and well-being of patients. \n",
    " \n",
    "## Education \n",
    "**Doctor of Medicine (MD)** \n",
    "*MediCare Medical School* \n",
    "Healthville, Medistate \n",
    "*Graduated: June 2016* \n",
    " \n",
    "## Professional Experience \n",
    "### Attending Physician \n",
    "*HealthyCare Hospital* \n",
    "Healthville, Medistate \n",
    "*July 2016 - Present* \n",
    "- Lead a team of medical professionals in the diagnosis and treatment of a wide range of medical \n",
    "conditions. \n",
    "- Provide compassionate and comprehensive patient care in the Emergency Department, specializing \n",
    "in trauma and critical care. \n",
    "- Collaborate with specialists, nurses, and support staff to ensure optimal patient outcomes. \n",
    "- Conduct medical research and participate in clinical trials to advance medical knowledge. \n",
    "- Mentor and train medical residents and interns in clinical procedures and patient care protocols. \n",
    " \n",
    "### Medical Resident \n",
    "- American College of Physicians (ACP) \n",
    " \n",
    "## Volunteer Work \n",
    "- Volunteer Physician, MedServe Medical Clinic, providing free medical care to underserved \n",
    "communities. \n",
    "- Medical Mission Trips to provide healthcare services in rural areas. \n",
    " \n",
    "## Languages \n",
    "- English (Native) \n",
    "- Spanish (Fluent) \n",
    " \n",
    "## Hobbies and Interests \n",
    "- Traveling, hiking, and outdoor activities \n",
    "- Reading medical literature \n",
    "- Playing the piano \n",
    " \n",
    "## References \n",
    "Available upon request. \"\"\"}\n",
    "    ],\n",
    "    functions=[\n",
    "        {\n",
    "            \"name\": \"get_features_from_a_cv_resume\",\n",
    "            \"description\": \"Get the individual properties out of a CV/Resume\",\n",
    "            \"parameters\": {\n",
    "                'type': 'object',\n",
    "                'properties': {\n",
    "                    'name': {\n",
    "                        'type': 'string',\n",
    "                        'description': 'Name of the person'\n",
    "                    },\n",
    "                    'phone': {\n",
    "                        'type': 'string',\n",
    "                        'description': 'Phone number of the person'\n",
    "                    },\n",
    "                    'email': {\n",
    "                        'type': 'string',\n",
    "                        'description': 'Email of the person'\n",
    "                    },\n",
    "                    'experience': {\n",
    "                        'type': 'string',\n",
    "                        'description': 'The experience of the person counted in years. Add up all the experience he has to have a single approximation. Count 2023 as the current year for calculation'\n",
    "                    },\n",
    "                    'qualifications': {\n",
    "                        'type': 'string',\n",
    "                        'description': 'The qualifications of the person'\n",
    "                    }\n",
    "\n",
    "                }\n",
    "            }\n",
    "        }\n",
    "    ],\n",
    "    function_call={\"name\": \"get_features_from_a_cv_resume\"}\n",
    ")\n",
    "\n",
    "# Parse JSON output from the AI model\n",
    "output = json.loads(response.choices[0]\n",
    "                    [\"message\"][\"function_call\"][\"arguments\"])\n",
    "\n",
    "print(output)"
   ]
  },
  {
   "cell_type": "code",
   "execution_count": 9,
   "metadata": {},
   "outputs": [
    {
     "data": {
      "text/plain": [
       "dict"
      ]
     },
     "execution_count": 9,
     "metadata": {},
     "output_type": "execute_result"
    }
   ],
   "source": [
    "type(output)"
   ]
  },
  {
   "cell_type": "code",
   "execution_count": 11,
   "metadata": {},
   "outputs": [],
   "source": [
    "from pprint import pprint"
   ]
  },
  {
   "cell_type": "code",
   "execution_count": 12,
   "metadata": {},
   "outputs": [
    {
     "name": "stdout",
     "output_type": "stream",
     "text": [
      "{'definitions': {'ContactInfo': {'properties': {'email': {'title': 'Email',\n",
      "                                                          'type': 'string'},\n",
      "                                                'experience': {'title': 'Experience',\n",
      "                                                               'type': 'string'},\n",
      "                                                'phone': {'title': 'Phone',\n",
      "                                                          'type': 'string'},\n",
      "                                                'qualifications': {'title': 'Qualifications',\n",
      "                                                                   'type': 'string'}},\n",
      "                                 'required': ['phone',\n",
      "                                              'email',\n",
      "                                              'experience',\n",
      "                                              'qualifications'],\n",
      "                                 'title': 'ContactInfo',\n",
      "                                 'type': 'object'}},\n",
      " 'properties': {'contact_info': {'$ref': '#/definitions/ContactInfo'},\n",
      "                'name': {'title': 'Name', 'type': 'string'}},\n",
      " 'required': ['name', 'contact_info'],\n",
      " 'title': 'PersonInformation',\n",
      " 'type': 'object'}\n"
     ]
    }
   ],
   "source": [
    "pprint(PersonInformation.schema())"
   ]
  },
  {
   "cell_type": "code",
   "execution_count": null,
   "metadata": {},
   "outputs": [],
   "source": []
  }
 ],
 "metadata": {
  "kernelspec": {
   "display_name": "Python 3",
   "language": "python",
   "name": "python3"
  },
  "language_info": {
   "codemirror_mode": {
    "name": "ipython",
    "version": 3
   },
   "file_extension": ".py",
   "mimetype": "text/x-python",
   "name": "python",
   "nbconvert_exporter": "python",
   "pygments_lexer": "ipython3",
   "version": "3.11.4"
  },
  "orig_nbformat": 4
 },
 "nbformat": 4,
 "nbformat_minor": 2
}
