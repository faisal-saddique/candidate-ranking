{
 "cells": [
  {
   "cell_type": "markdown",
   "metadata": {},
   "source": [
    "#### Testing OpenAI API Key"
   ]
  },
  {
   "cell_type": "code",
   "execution_count": 1,
   "metadata": {},
   "outputs": [
    {
     "name": "stdout",
     "output_type": "stream",
     "text": [
      "\n",
      "\n",
      "Hi! How are you doing today?\n"
     ]
    }
   ],
   "source": [
    "from langchain.llms import OpenAI\n",
    "from dotenv import load_dotenv\n",
    "\n",
    "load_dotenv()\n",
    "\n",
    "print(OpenAI().predict(\"Hello\"))"
   ]
  },
  {
   "cell_type": "code",
   "execution_count": 3,
   "metadata": {},
   "outputs": [
    {
     "name": "stdout",
     "output_type": "stream",
     "text": [
      "{'name': 'John Doe', 'contact_info': {'phone': '1234567890', 'email': 'johndoe@example.com', 'experience': '5 years of experience in software development', 'qualifications': \"Bachelor's degree in Computer Science\"}}\n",
      "name='John Doe' contact_info=ContactInfo(phone='1234567890', email='johndoe@example.com', experience='5 years of experience in software development', qualifications=\"Bachelor's degree in Computer Science\")\n"
     ]
    }
   ],
   "source": [
    "import openai\n",
    "import os\n",
    "import json\n",
    "from dotenv import load_dotenv\n",
    "\n",
    "from pydantic import BaseModel\n",
    "\n",
    "load_dotenv()\n",
    "\n",
    "# Set Open AI API Key\n",
    "api_key = os.getenv(\"OPENAI_API_KEY\")\n",
    "assert api_key is not None, \"API Key not set in environment\"\n",
    "\n",
    "openai.api_key = api_key\n",
    "\n",
    "# Define the PyDantic schema for contact_info\n",
    "class ContactInfo(BaseModel):\n",
    "    phone: str\n",
    "    email: str\n",
    "    experience: str\n",
    "    qualifications: str\n",
    "\n",
    "# Define the PyDantic schema for a PersonInformation\n",
    "class PersonInformation(BaseModel):\n",
    "    name: str\n",
    "    contact_info: ContactInfo\n",
    "\n",
    "# Make a call to OpenAI\n",
    "response = openai.ChatCompletion.create(\n",
    "    model=\"gpt-3.5-turbo-0613\",\n",
    "    messages=[\n",
    "       {\"role\": \"user\", \"content\": f\"\"}\n",
    "    ],\n",
    "    functions=[\n",
    "        {\n",
    "            \"name\": \"get_features_from_a_cv_resume\",\n",
    "            \"description\": \"Get the individual properties out of a CV/Resume\",\n",
    "            \"parameters\": PersonInformation.schema()  # Use the PersonInformation schema here\n",
    "        }\n",
    "    ],\n",
    "    function_call={\"name\": \"get_features_from_a_cv_resume\"}\n",
    ")\n",
    "\n",
    "# Parse JSON output from the AI model\n",
    "output = json.loads(response.choices[0][\"message\"][\"function_call\"][\"arguments\"])\n",
    "\n",
    "print(output)\n",
    "\n",
    "# Load JSON optionally into the PyDantic model (or) use it directly\n",
    "person = PersonInformation(**output)\n",
    "\n",
    "print(person)\n"
   ]
  },
  {
   "cell_type": "code",
   "execution_count": 9,
   "metadata": {},
   "outputs": [
    {
     "data": {
      "text/plain": [
       "dict"
      ]
     },
     "execution_count": 9,
     "metadata": {},
     "output_type": "execute_result"
    }
   ],
   "source": [
    "type(output)"
   ]
  }
 ],
 "metadata": {
  "kernelspec": {
   "display_name": "Python 3",
   "language": "python",
   "name": "python3"
  },
  "language_info": {
   "codemirror_mode": {
    "name": "ipython",
    "version": 3
   },
   "file_extension": ".py",
   "mimetype": "text/x-python",
   "name": "python",
   "nbconvert_exporter": "python",
   "pygments_lexer": "ipython3",
   "version": "3.11.4"
  },
  "orig_nbformat": 4
 },
 "nbformat": 4,
 "nbformat_minor": 2
}
